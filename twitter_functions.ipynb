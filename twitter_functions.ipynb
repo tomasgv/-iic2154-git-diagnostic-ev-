{
 "cells": [
  {
   "cell_type": "markdown",
   "id": "9909f7bd",
   "metadata": {},
   "source": [
    "# Twitter functions\n",
    "\n",
    "This notebook contains the requested twitter functions.\n"
   ]
  },
  {
   "cell_type": "markdown",
   "id": "6d2be353",
   "metadata": {},
   "source": [
    "### Libraries to import"
   ]
  },
  {
   "cell_type": "code",
   "execution_count": 1,
   "id": "9d8763f8",
   "metadata": {},
   "outputs": [],
   "source": [
    "import os\n",
    "import json\n",
    "from collections import defaultdict"
   ]
  },
  {
   "cell_type": "markdown",
   "id": "4d83e892",
   "metadata": {},
   "source": [
    "### Function definition"
   ]
  },
  {
   "cell_type": "code",
   "execution_count": 2,
   "id": "7446f13f",
   "metadata": {},
   "outputs": [],
   "source": [
    "DEFAULT_DATA_DIR = os.path.join(\"data\", \"farmers-protest-tweets-2021-03-5.json\")\n",
    "\n",
    "def validate_input(input_str):\n",
    "    if input_str not in [\"1\", \"2\", \"3\", \"4\"]:\n",
    "        input_str = input(\"Please enter a valid option.\\n> \")\n",
    "        return validate_input(input_str)\n",
    "    return input_str\n",
    "\n",
    "def top_retweeted(input_path):\n",
    "    \"\"\"Reads the dataset at input_path and returns the 10 most retweeted tweets.\n",
    "    \"\"\"\n",
    "    min_val = 0\n",
    "    top_list = [] \n",
    "    with open(input_path) as input_file:\n",
    "        for line in input_file:\n",
    "            tweet = json.loads(line.strip())\n",
    "            if tweet[\"retweetCount\"] >= min_val:\n",
    "                if len(top_list) == 10:\n",
    "                    min_tweet = min(top_list, key=lambda x: x[\"retweetCount\"])\n",
    "                    top_list.remove(min_tweet)\n",
    "                    top_list.append(tweet)\n",
    "                    min_val = min(list(map(lambda x: x[\"retweetCount\"], top_list)))\n",
    "                    \n",
    "                else:\n",
    "                    top_list.append(tweet)\n",
    "                    min_val = min(list(map(lambda x: x[\"retweetCount\"], top_list)))\n",
    "    return top_list\n",
    "\n",
    "def top_users(input_path):\n",
    "    \"\"\"Reads the dataset at input_path and returns the 10 users that tweet the most.\n",
    "    \"\"\"\n",
    "    users_dict = defaultdict(lambda: 0)\n",
    "    with open(input_path) as input_file:\n",
    "        for line in input_file:\n",
    "            tweet = json.loads(line.strip())\n",
    "            users_dict[tweet[\"user\"][\"username\"]] += 1\n",
    "    top_users = sorted([(user, tweets) for user, tweets in users_dict.items()], key=lambda x: x[1], reverse=True)\n",
    "    \n",
    "    return list(map(lambda x: x[0], top_users[:10]))\n",
    "\n",
    "def top_days(input_path):\n",
    "    \"\"\"Reads the dataset at input_path and returns the top 10 days that have the most tweets.\n",
    "    \"\"\"\n",
    "    days_dict = defaultdict(lambda: 0)\n",
    "    with open(input_path) as input_file:\n",
    "        for line in input_file:\n",
    "            tweet = json.loads(line.strip())\n",
    "            date = tweet[\"date\"]\n",
    "            day = date[:date.index(\"T\")]\n",
    "            days_dict[day] += 1\n",
    "    top_days = sorted([(day, tweets) for day, tweets in days_dict.items()], key=lambda x: x[1], reverse=True)\n",
    "    \n",
    "    return list(map(lambda x: x[0], top_days[:10]))\n",
    "\n",
    "def top_hashtags(input_path):    \n",
    "    return \"top_hashtags\"\n",
    "\n",
    "def main():\n",
    "    input_path = input(\"Enter dataset path (leave empty to use default value): \")\n",
    "    if not os.path.exists(input_path):\n",
    "        input_path = DEFAULT_DATA_DIR\n",
    "        print(f\"Default value will be used ({input_path})\")\n",
    "\n",
    "    options_str = \"\"\"Available functions:\n",
    "        [1] Top 10 most retweeted tweets\n",
    "        [2] Top 10 users that tweeted the most\n",
    "        [3] Top 10 days where people tweeted the most\n",
    "        [4] Top 10 most used hashtags\"\"\"\n",
    "    \n",
    "    functions_dict = {\n",
    "        \"1\": top_retweeted,\n",
    "        \"2\": top_users,\n",
    "        \"3\": top_days,\n",
    "        \"4\": top_hashtags\n",
    "    }\n",
    "    \n",
    "    selected_function = validate_input(input(f\"{options_str}\\n> \"))\n",
    "    result = functions_dict[selected_function](input_path)\n",
    "    print(f\"Execution result:\\n {result}\")"
   ]
  },
  {
   "cell_type": "markdown",
   "id": "b78a7c3a",
   "metadata": {},
   "source": [
    "### Main execution"
   ]
  },
  {
   "cell_type": "code",
   "execution_count": 3,
   "id": "2c41796c",
   "metadata": {},
   "outputs": [
    {
     "name": "stdout",
     "output_type": "stream",
     "text": [
      "Enter dataset path (leave empty to use default value): \n",
      "Default value will be used (data/farmers-protest-tweets-2021-03-5.json)\n",
      "Available functions:\n",
      "        [1] Top 10 most retweeted tweets\n",
      "        [2] Top 10 users that tweeted the most\n",
      "        [3] Top 10 days where people tweeted the most\n",
      "        [4] Top 10 most used hashtags\n",
      "> 3\n",
      "Execution result:\n",
      " ['2021-02-03', '2021-02-04', '2021-02-05', '2021-02-02', '2021-02-06', '2021-02-07', '2021-02-09', '2021-02-08', '2021-02-10', '2021-02-11']\n"
     ]
    }
   ],
   "source": [
    "main()"
   ]
  },
  {
   "cell_type": "code",
   "execution_count": null,
   "id": "c5d07dc3",
   "metadata": {},
   "outputs": [],
   "source": []
  }
 ],
 "metadata": {
  "kernelspec": {
   "display_name": "Python 3 (ipykernel)",
   "language": "python",
   "name": "python3"
  },
  "language_info": {
   "codemirror_mode": {
    "name": "ipython",
    "version": 3
   },
   "file_extension": ".py",
   "mimetype": "text/x-python",
   "name": "python",
   "nbconvert_exporter": "python",
   "pygments_lexer": "ipython3",
   "version": "3.8.10"
  }
 },
 "nbformat": 4,
 "nbformat_minor": 5
}

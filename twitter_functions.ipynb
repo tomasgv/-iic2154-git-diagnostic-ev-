{
 "cells": [
  {
   "cell_type": "markdown",
   "id": "9909f7bd",
   "metadata": {},
   "source": [
    "# Twitter functions\n",
    "\n",
    "This notebook contains the requested twitter functions.\n"
   ]
  },
  {
   "cell_type": "markdown",
   "id": "bbd3311a",
   "metadata": {},
   "source": [
    "### Libraries to import"
   ]
  },
  {
   "cell_type": "code",
   "execution_count": 1,
   "id": "9d8763f8",
   "metadata": {},
   "outputs": [],
   "source": [
    "import os"
   ]
  },
  {
   "cell_type": "markdown",
   "id": "4d83e892",
   "metadata": {},
   "source": [
    "### Function definition"
   ]
  },
  {
   "cell_type": "code",
   "execution_count": 3,
   "id": "7446f13f",
   "metadata": {},
   "outputs": [],
   "source": [
    "DEFAULT_DATA_DIR = os.path.join(\"data\", \"farmers-protest-tweets-2021-03-5.json\")\n",
    "\n",
    "def top_retweeted(input_path):\n",
    "    return \"top_retweeted\"\n",
    "\n",
    "def top_users(input_path):\n",
    "    return \"top_users\"\n",
    "\n",
    "def top_days(input_path):\n",
    "    return \"top_days\"\n",
    "\n",
    "def top_hashtags(input_path):    \n",
    "    return \"top_hashtags\"\n",
    "\n",
    "def main():\n",
    "    return \"main\""
   ]
  },
  {
   "cell_type": "markdown",
   "id": "b78a7c3a",
   "metadata": {},
   "source": [
    "### Main execution"
   ]
  },
  {
   "cell_type": "code",
   "execution_count": 4,
   "id": "2c41796c",
   "metadata": {},
   "outputs": [
    {
     "data": {
      "text/plain": [
       "'main'"
      ]
     },
     "execution_count": 4,
     "metadata": {},
     "output_type": "execute_result"
    }
   ],
   "source": [
    "main()"
   ]
  },
  {
   "cell_type": "code",
   "execution_count": null,
   "id": "c5d07dc3",
   "metadata": {},
   "outputs": [],
   "source": []
  }
 ],
 "metadata": {
  "kernelspec": {
   "display_name": "Python 3 (ipykernel)",
   "language": "python",
   "name": "python3"
  },
  "language_info": {
   "codemirror_mode": {
    "name": "ipython",
    "version": 3
   },
   "file_extension": ".py",
   "mimetype": "text/x-python",
   "name": "python",
   "nbconvert_exporter": "python",
   "pygments_lexer": "ipython3",
   "version": "3.8.10"
  }
 },
 "nbformat": 4,
 "nbformat_minor": 5
}

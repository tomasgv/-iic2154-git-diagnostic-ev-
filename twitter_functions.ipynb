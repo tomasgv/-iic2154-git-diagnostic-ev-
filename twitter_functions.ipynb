{
 "cells": [
  {
   "cell_type": "markdown",
   "id": "9909f7bd",
   "metadata": {},
   "source": [
    "# Twitter functions\n",
    "\n",
    "This notebook contains the requested twitter functions.\n"
   ]
  },
  {
   "cell_type": "markdown",
   "id": "6d2be353",
   "metadata": {},
   "source": [
    "### Libraries to import"
   ]
  },
  {
   "cell_type": "code",
   "execution_count": 1,
   "id": "9d8763f8",
   "metadata": {},
   "outputs": [],
   "source": [
    "import os\n",
    "import json"
   ]
  },
  {
   "cell_type": "markdown",
   "id": "4d83e892",
   "metadata": {},
   "source": [
    "### Function definition"
   ]
  },
  {
   "cell_type": "code",
   "execution_count": 2,
   "id": "7446f13f",
   "metadata": {},
   "outputs": [],
   "source": [
    "DEFAULT_DATA_DIR = os.path.join(\"data\", \"farmers-protest-tweets-2021-03-5.json\")\n",
    "\n",
    "def validate_input(input_str):\n",
    "    if input_str not in [\"1\", \"2\", \"3\", \"4\"]:\n",
    "        input_str = input(\"Please enter a valid option.\\n> \")\n",
    "        return validate_input(input_str)\n",
    "    return input_str\n",
    "\n",
    "def top_retweeted(input_path):\n",
    "    \"\"\"Reads the dataset at input_path and returns the 10 most retweeted tweets.\n",
    "    \"\"\"\n",
    "    min_val = 0\n",
    "    top_list = [] \n",
    "    with open(input_path) as input_file:\n",
    "        for line in input_file:\n",
    "            tweet = json.loads(line.strip())\n",
    "            if tweet[\"retweetCount\"] >= min_val:\n",
    "                if len(top_list) == 10:\n",
    "                    min_tweet = min(top_list, key=lambda x: x[\"retweetCount\"])\n",
    "                    top_list.remove(min_tweet)\n",
    "                    top_list.append(tweet)\n",
    "                    min_val = min(list(map(lambda x: x[\"retweetCount\"], top_list)))\n",
    "                    \n",
    "                else:\n",
    "                    top_list.append(tweet)\n",
    "                    min_val = min(list(map(lambda x: x[\"retweetCount\"], top_list)))\n",
    "    return top_list\n",
    "\n",
    "def top_users(input_path):\n",
    "    return \"top_users\"\n",
    "\n",
    "def top_days(input_path):\n",
    "    return \"top_days\"\n",
    "\n",
    "def top_hashtags(input_path):    \n",
    "    return \"top_hashtags\"\n",
    "\n",
    "def main():\n",
    "    input_path = input(\"Enter dataset path (leave empty to use default value): \")\n",
    "    if not os.path.exists(input_path):\n",
    "        input_path = DEFAULT_DATA_DIR\n",
    "        print(f\"Default value will be used ({input_path})\")\n",
    "\n",
    "    options_str = \"\"\"Available functions:\n",
    "        [1] Top 10 most retweeted tweets\n",
    "        [2] Top 10 users that tweeted the most\n",
    "        [3] Top 10 days where people tweeted the most\n",
    "        [4] Top 10 most used hashtags\"\"\"\n",
    "    \n",
    "    functions_dict = {\n",
    "        \"1\": top_retweeted,\n",
    "        \"2\": top_users,\n",
    "        \"3\": top_days,\n",
    "        \"4\": top_hashtags\n",
    "    }\n",
    "    \n",
    "    selected_function = validate_input(input(f\"{options_str}\\n> \"))\n",
    "    result = functions_dict[selected_function](input_path)\n",
    "    print(f\"Execution result:\\n {result}\")"
   ]
  },
  {
   "cell_type": "markdown",
   "id": "b78a7c3a",
   "metadata": {},
   "source": [
    "### Main execution"
   ]
  },
  {
   "cell_type": "code",
   "execution_count": 3,
   "id": "2c41796c",
   "metadata": {},
   "outputs": [
    {
     "name": "stdout",
     "output_type": "stream",
     "text": [
      "Enter dataset path (leave empty to use default value): \n",
      "Default value will be used (data/farmers-protest-tweets-2021-03-5.json)\n",
      "Available functions:\n",
      "        [1] Top 10 most retweeted tweets\n",
      "        [2] Top 10 users that tweeted the most\n",
      "        [3] Top 10 days where people tweeted the most\n",
      "        [4] Top 10 most used hashtags\n",
      "> 1\n",
      "Execution result:\n",
      " [{'url': 'https://twitter.com/AmandaCerny/status/1359013362881994752', 'date': '2021-02-09T05:36:49+00:00', 'content': 'To all of my influencer/celeb friends- read up on this   #FarmersProtest 👀', 'renderedContent': 'To all of my influencer/celeb friends- read up on this   #FarmersProtest 👀', 'id': 1359013362881994752, 'user': {'username': 'AmandaCerny', 'displayname': 'Amanda Cerny', 'id': 104856942, 'description': '🤍🤎🖤❤️🧡💛💚💙💜 Not a financial advisor. Comedy is life!', 'rawDescription': '🤍🤎🖤❤️🧡💛💚💙💜 Not a financial advisor. Comedy is life!', 'descriptionUrls': [], 'verified': True, 'created': '2010-01-14T16:24:48+00:00', 'followersCount': 1131339, 'friendsCount': 9975, 'statusesCount': 5442, 'favouritesCount': 42427, 'listedCount': 1413, 'mediaCount': 762, 'location': 'Florida, USA', 'protected': False, 'linkUrl': 'http://instagram.com/AmandaCerny', 'linkTcourl': 'https://t.co/NbiJsjZOzz', 'profileImageUrl': 'https://pbs.twimg.com/profile_images/1366130009530798081/RJt0AUbB_normal.jpg', 'profileBannerUrl': 'https://pbs.twimg.com/profile_banners/104856942/1605856730', 'url': 'https://twitter.com/AmandaCerny'}, 'outlinks': [], 'tcooutlinks': [], 'replyCount': 2028, 'retweetCount': 15677, 'likeCount': 81375, 'quoteCount': 813, 'conversationId': 1359013362881994752, 'lang': 'en', 'source': '<a href=\"http://twitter.com/download/iphone\" rel=\"nofollow\">Twitter for iPhone</a>', 'sourceUrl': 'http://twitter.com/download/iphone', 'sourceLabel': 'Twitter for iPhone', 'media': None, 'retweetedTweet': None, 'quotedTweet': None, 'mentionedUsers': None}, {'url': 'https://twitter.com/BobBlackman/status/1357755699162398720', 'date': '2021-02-05T18:19:19+00:00', 'content': 'There has been much social media coverage around the #FarmersProtest in #India. Very useful guide to the legislation and the impact on farmers. 1/2 https://t.co/3CsdgBebdZ', 'renderedContent': 'There has been much social media coverage around the #FarmersProtest in #India. Very useful guide to the legislation and the impact on farmers. 1/2 https://t.co/3CsdgBebdZ', 'id': 1357755699162398720, 'user': {'username': 'BobBlackman', 'displayname': 'Bob Blackman', 'id': 805185025, 'description': 'Conservative MP for Harrow East. Avid Spurs fan.', 'rawDescription': 'Conservative MP for Harrow East. Avid Spurs fan.', 'descriptionUrls': [], 'verified': True, 'created': '2012-09-05T18:58:51+00:00', 'followersCount': 24668, 'friendsCount': 2248, 'statusesCount': 30221, 'favouritesCount': 18297, 'listedCount': 438, 'mediaCount': 2134, 'location': 'Harrow East', 'protected': False, 'linkUrl': 'http://bobblackman.org.uk', 'linkTcourl': 'https://t.co/6ADmo5ewJg', 'profileImageUrl': 'https://pbs.twimg.com/profile_images/852477831028330497/0BJVb-Du_normal.jpg', 'profileBannerUrl': 'https://pbs.twimg.com/profile_banners/805185025/1492081896', 'url': 'https://twitter.com/BobBlackman'}, 'outlinks': [], 'tcooutlinks': [], 'replyCount': 1845, 'retweetCount': 20132, 'likeCount': 42779, 'quoteCount': 1592, 'conversationId': 1357755699162398720, 'lang': 'en', 'source': '<a href=\"https://mobile.twitter.com\" rel=\"nofollow\">Twitter Web App</a>', 'sourceUrl': 'https://mobile.twitter.com', 'sourceLabel': 'Twitter Web App', 'media': [{'previewUrl': 'https://pbs.twimg.com/media/Ete3TWmXAAYQjQM?format=jpg&name=small', 'fullUrl': 'https://pbs.twimg.com/media/Ete3TWmXAAYQjQM?format=jpg&name=large', 'type': 'photo'}, {'previewUrl': 'https://pbs.twimg.com/media/Ete3TVTXIAcO_e1?format=jpg&name=small', 'fullUrl': 'https://pbs.twimg.com/media/Ete3TVTXIAcO_e1?format=jpg&name=large', 'type': 'photo'}], 'retweetedTweet': None, 'quotedTweet': None, 'mentionedUsers': None}, {'url': 'https://twitter.com/GretaThunberg/status/1357282507616645122', 'date': '2021-02-04T10:59:01+00:00', 'content': 'I still #StandWithFarmers and support their peaceful protest.\\nNo amount of hate, threats or violations of human rights will ever change that. #FarmersProtest', 'renderedContent': 'I still #StandWithFarmers and support their peaceful protest.\\nNo amount of hate, threats or violations of human rights will ever change that. #FarmersProtest', 'id': 1357282507616645122, 'user': {'username': 'GretaThunberg', 'displayname': 'Greta Thunberg', 'id': 1006419421244678144, 'description': \"Seriously annoying climate- and environmental activist with Asperger's\\nBorn at 375ppm\", 'rawDescription': \"Seriously annoying climate- and environmental activist with Asperger's\\nBorn at 375ppm\", 'descriptionUrls': [], 'verified': True, 'created': '2018-06-12T06:14:23+00:00', 'followersCount': 4974221, 'friendsCount': 2458, 'statusesCount': 9318, 'favouritesCount': 18211, 'listedCount': 10279, 'mediaCount': 597, 'location': 'Sverige', 'protected': False, 'linkUrl': 'http://ClimateEmergencyEU.org', 'linkTcourl': 'https://t.co/LA8lYvULhX', 'profileImageUrl': 'https://pbs.twimg.com/profile_images/1351885832320380928/qAXFKHx5_normal.jpg', 'profileBannerUrl': 'https://pbs.twimg.com/profile_banners/1006419421244678144/1559499911', 'url': 'https://twitter.com/GretaThunberg'}, 'outlinks': [], 'tcooutlinks': [], 'replyCount': 39596, 'retweetCount': 67694, 'likeCount': 234676, 'quoteCount': 10587, 'conversationId': 1357282507616645122, 'lang': 'en', 'source': '<a href=\"http://twitter.com/download/iphone\" rel=\"nofollow\">Twitter for iPhone</a>', 'sourceUrl': 'http://twitter.com/download/iphone', 'sourceLabel': 'Twitter for iPhone', 'media': None, 'retweetedTweet': None, 'quotedTweet': None, 'mentionedUsers': None}, {'url': 'https://twitter.com/TeamJuJu/status/1357048037302960129', 'date': '2021-02-03T19:27:19+00:00', 'content': 'Happy to share that I’ve donated $10,000 to provide medical assistance to the farmers in need in India to help save lives during these times. I hope we can prevent any additional life from being lost. 🙏🏾 #FarmersProtest https://t.co/0WoEw0l3ij', 'renderedContent': 'Happy to share that I’ve donated $10,000 to provide medical assistance to the farmers in need in India to help save lives during these times. I hope we can prevent any additional life from being lost. 🙏🏾 #FarmersProtest usnews.com/news/world/art…', 'id': 1357048037302960129, 'user': {'username': 'TeamJuJu', 'displayname': 'JuJu Smith-Schuster', 'id': 733170759829327874, 'description': 'WR for the Pittsburgh Steelers - It’s Lit // Business: TeamJuJuBiz@gmail.com', 'rawDescription': 'WR for the Pittsburgh Steelers - It’s Lit // Business: TeamJuJuBiz@gmail.com', 'descriptionUrls': [], 'verified': True, 'created': '2016-05-19T05:41:45+00:00', 'followersCount': 1191576, 'friendsCount': 656, 'statusesCount': 3026, 'favouritesCount': 711, 'listedCount': 1073, 'mediaCount': 1481, 'location': 'Pittsburgh, PA', 'protected': False, 'linkUrl': 'http://twitch.tv/juju', 'linkTcourl': 'https://t.co/VD1IGOxHhN', 'profileImageUrl': 'https://pbs.twimg.com/profile_images/1107079305899597824/PqrGNTzk_normal.jpg', 'profileBannerUrl': 'https://pbs.twimg.com/profile_banners/733170759829327874/1560202311', 'url': 'https://twitter.com/TeamJuJu'}, 'outlinks': ['https://www.usnews.com/news/world/articles/2020-12-21/indian-farmers-vow-to-carry-on-protests-despite-cold-deaths'], 'tcooutlinks': ['https://t.co/0WoEw0l3ij'], 'replyCount': 7683, 'retweetCount': 23251, 'likeCount': 59248, 'quoteCount': 4082, 'conversationId': 1357048037302960129, 'lang': 'en', 'source': '<a href=\"http://twitter.com/download/iphone\" rel=\"nofollow\">Twitter for iPhone</a>', 'sourceUrl': 'http://twitter.com/download/iphone', 'sourceLabel': 'Twitter for iPhone', 'media': None, 'retweetedTweet': None, 'quotedTweet': None, 'mentionedUsers': None}, {'url': 'https://twitter.com/kylekuzma/status/1357009721090138112', 'date': '2021-02-03T16:55:04+00:00', 'content': 'Should be talking about this! #FarmersProtest\\n\\nhttps://t.co/Xh09iTvVoF', 'renderedContent': 'Should be talking about this! #FarmersProtest\\n\\ncnn.com/2021/02/01/asi…', 'id': 1357009721090138112, 'user': {'username': 'kylekuzma', 'displayname': 'kuz', 'id': 272616327, 'description': 'Flintstone. NBA Champion. Los Angeles Lakers.', 'rawDescription': 'Flintstone. NBA Champion. Los Angeles Lakers.', 'descriptionUrls': [], 'verified': True, 'created': '2011-03-26T21:02:32+00:00', 'followersCount': 1083613, 'friendsCount': 16, 'statusesCount': 15115, 'favouritesCount': 4226, 'listedCount': 1861, 'mediaCount': 407, 'location': 'Los Angeles, CA', 'protected': False, 'linkUrl': 'http://www.facebook.com/OfficialKyleKuzma', 'linkTcourl': 'https://t.co/u1kC1PFPkY', 'profileImageUrl': 'https://pbs.twimg.com/profile_images/1357844512761024513/EQ2tTiOg_normal.jpg', 'profileBannerUrl': 'https://pbs.twimg.com/profile_banners/272616327/1398832476', 'url': 'https://twitter.com/kylekuzma'}, 'outlinks': ['https://www.cnn.com/2021/02/01/asia/india-internet-cut-farmers-intl-hnk/index.html'], 'tcooutlinks': ['https://t.co/Xh09iTvVoF'], 'replyCount': 4167, 'retweetCount': 17368, 'likeCount': 39653, 'quoteCount': 2505, 'conversationId': 1357009721090138112, 'lang': 'en', 'source': '<a href=\"http://twitter.com/download/iphone\" rel=\"nofollow\">Twitter for iPhone</a>', 'sourceUrl': 'http://twitter.com/download/iphone', 'sourceLabel': 'Twitter for iPhone', 'media': None, 'retweetedTweet': None, 'quotedTweet': None, 'mentionedUsers': None}, {'url': 'https://twitter.com/miakhalifa/status/1356848397899112448', 'date': '2021-02-03T06:14:01+00:00', 'content': '“Paid actors,” huh? Quite the casting director, I hope they’re not overlooked during awards season. I stand with the farmers. #FarmersProtest https://t.co/moONj03tN0', 'renderedContent': '“Paid actors,” huh? Quite the casting director, I hope they’re not overlooked during awards season. I stand with the farmers. #FarmersProtest https://t.co/moONj03tN0', 'id': 1356848397899112448, 'user': {'username': 'miakhalifa', 'displayname': 'Mia K.', 'id': 2835653131, 'description': 'Are you even a brown girl with glasses if you haven’t been called “Mia Khalifa”? Business: Inquiries@myotis.co not financial advice', 'rawDescription': 'Are you even a brown girl with glasses if you haven’t been called “Mia Khalifa”? Business: Inquiries@myotis.co not financial advice', 'descriptionUrls': [], 'verified': True, 'created': '2014-09-29T19:07:44+00:00', 'followersCount': 3653849, 'friendsCount': 260, 'statusesCount': 21432, 'favouritesCount': 22647, 'listedCount': 2986, 'mediaCount': 3950, 'location': 'Austin, TX', 'protected': False, 'linkUrl': 'http://onlyfans.com/miakhalifa', 'linkTcourl': 'https://t.co/5WmOmVwp3s', 'profileImageUrl': 'https://pbs.twimg.com/profile_images/1288646471911235584/Lqxj1v9d_normal.jpg', 'profileBannerUrl': 'https://pbs.twimg.com/profile_banners/2835653131/1590886022', 'url': 'https://twitter.com/miakhalifa'}, 'outlinks': [], 'tcooutlinks': [], 'replyCount': 15569, 'retweetCount': 35921, 'likeCount': 139959, 'quoteCount': 5681, 'conversationId': 1356848397899112448, 'lang': 'en', 'source': '<a href=\"http://twitter.com/download/iphone\" rel=\"nofollow\">Twitter for iPhone</a>', 'sourceUrl': 'http://twitter.com/download/iphone', 'sourceLabel': 'Twitter for iPhone', 'media': [{'previewUrl': 'https://pbs.twimg.com/media/EtR-bQ0VoAAWS1y?format=jpg&name=small', 'fullUrl': 'https://pbs.twimg.com/media/EtR-bQ0VoAAWS1y?format=jpg&name=large', 'type': 'photo'}], 'retweetedTweet': None, 'quotedTweet': None, 'mentionedUsers': None}, {'url': 'https://twitter.com/miakhalifa/status/1356827705161879553', 'date': '2021-02-03T04:51:48+00:00', 'content': 'What in the human rights violations is going on?! They cut the internet around New Delhi?! #FarmersProtest https://t.co/a5ml1P2ikU', 'renderedContent': 'What in the human rights violations is going on?! They cut the internet around New Delhi?! #FarmersProtest https://t.co/a5ml1P2ikU', 'id': 1356827705161879553, 'user': {'username': 'miakhalifa', 'displayname': 'Mia K.', 'id': 2835653131, 'description': 'Are you even a brown girl with glasses if you haven’t been called “Mia Khalifa”? Business: Inquiries@myotis.co not financial advice', 'rawDescription': 'Are you even a brown girl with glasses if you haven’t been called “Mia Khalifa”? Business: Inquiries@myotis.co not financial advice', 'descriptionUrls': [], 'verified': True, 'created': '2014-09-29T19:07:44+00:00', 'followersCount': 3653846, 'friendsCount': 260, 'statusesCount': 21432, 'favouritesCount': 22647, 'listedCount': 2986, 'mediaCount': 3950, 'location': 'Austin, TX', 'protected': False, 'linkUrl': 'http://onlyfans.com/miakhalifa', 'linkTcourl': 'https://t.co/5WmOmVwp3s', 'profileImageUrl': 'https://pbs.twimg.com/profile_images/1288646471911235584/Lqxj1v9d_normal.jpg', 'profileBannerUrl': 'https://pbs.twimg.com/profile_banners/2835653131/1590886022', 'url': 'https://twitter.com/miakhalifa'}, 'outlinks': [], 'tcooutlinks': [], 'replyCount': 9082, 'retweetCount': 26972, 'likeCount': 99227, 'quoteCount': 4606, 'conversationId': 1356827705161879553, 'lang': 'en', 'source': '<a href=\"http://twitter.com/download/iphone\" rel=\"nofollow\">Twitter for iPhone</a>', 'sourceUrl': 'http://twitter.com/download/iphone', 'sourceLabel': 'Twitter for iPhone', 'media': [{'previewUrl': 'https://pbs.twimg.com/media/EtRrmvmUYAAVZx6?format=jpg&name=small', 'fullUrl': 'https://pbs.twimg.com/media/EtRrmvmUYAAVZx6?format=jpg&name=large', 'type': 'photo'}], 'retweetedTweet': None, 'quotedTweet': None, 'mentionedUsers': None}, {'url': 'https://twitter.com/GretaThunberg/status/1356694884615340037', 'date': '2021-02-02T20:04:01+00:00', 'content': 'We stand in solidarity with the #FarmersProtest in India.\\n https://t.co/tqvR0oHgo0', 'renderedContent': 'We stand in solidarity with the #FarmersProtest in India.\\n cnn.com/2021/02/01/asi…', 'id': 1356694884615340037, 'user': {'username': 'GretaThunberg', 'displayname': 'Greta Thunberg', 'id': 1006419421244678144, 'description': \"Seriously annoying climate- and environmental activist with Asperger's\\nBorn at 375ppm\", 'rawDescription': \"Seriously annoying climate- and environmental activist with Asperger's\\nBorn at 375ppm\", 'descriptionUrls': [], 'verified': True, 'created': '2018-06-12T06:14:23+00:00', 'followersCount': 4974236, 'friendsCount': 2458, 'statusesCount': 9318, 'favouritesCount': 18211, 'listedCount': 10272, 'mediaCount': 597, 'location': 'Sverige', 'protected': False, 'linkUrl': 'http://ClimateEmergencyEU.org', 'linkTcourl': 'https://t.co/LA8lYvULhX', 'profileImageUrl': 'https://pbs.twimg.com/profile_images/1351885832320380928/qAXFKHx5_normal.jpg', 'profileBannerUrl': 'https://pbs.twimg.com/profile_banners/1006419421244678144/1559499911', 'url': 'https://twitter.com/GretaThunberg'}, 'outlinks': ['https://www.cnn.com/2021/02/01/asia/india-internet-cut-farmers-intl-hnk/index.html'], 'tcooutlinks': ['https://t.co/tqvR0oHgo0'], 'replyCount': 49793, 'retweetCount': 103957, 'likeCount': 319363, 'quoteCount': 13815, 'conversationId': 1356694884615340037, 'lang': 'en', 'source': '<a href=\"http://twitter.com/download/iphone\" rel=\"nofollow\">Twitter for iPhone</a>', 'sourceUrl': 'http://twitter.com/download/iphone', 'sourceLabel': 'Twitter for iPhone', 'media': None, 'retweetedTweet': None, 'quotedTweet': None, 'mentionedUsers': None}, {'url': 'https://twitter.com/vanessa_vash/status/1356681136655769605', 'date': '2021-02-02T19:09:23+00:00', 'content': 'Farmers feed the world. Fight for them. Protect them #FarmersProtest', 'renderedContent': 'Farmers feed the world. Fight for them. Protect them #FarmersProtest', 'id': 1356681136655769605, 'user': {'username': 'vanessa_vash', 'displayname': 'Vanessa Nakate', 'id': 1134059457191776257, 'description': 'founder @TheRiseUpMovem1\\n@1MillionActivi1 \\nEducate girls for Climate. vanessanakatepress@gmail.com\\ngofundme.com/f/green-school…', 'rawDescription': 'founder @TheRiseUpMovem1\\n@1MillionActivi1 \\nEducate girls for Climate. vanessanakatepress@gmail.com\\nhttps://t.co/ouXCFfdJej', 'descriptionUrls': [{'text': 'gofundme.com/f/green-school…', 'url': 'https://www.gofundme.com/f/green-schools-with-vash?utm_s', 'tcourl': 'https://t.co/ouXCFfdJej', 'indices': [99, 122]}], 'verified': True, 'created': '2019-05-30T11:30:19+00:00', 'followersCount': 207788, 'friendsCount': 864, 'statusesCount': 13890, 'favouritesCount': 20531, 'listedCount': 713, 'mediaCount': 808, 'location': 'Planet Earth 🌍 ', 'protected': False, 'linkUrl': 'https://www.1millionactiviststories.org/', 'linkTcourl': 'https://t.co/LLtuCVnOLC', 'profileImageUrl': 'https://pbs.twimg.com/profile_images/1264475761190330368/FPgDxKwa_normal.jpg', 'profileBannerUrl': 'https://pbs.twimg.com/profile_banners/1134059457191776257/1613757215', 'url': 'https://twitter.com/vanessa_vash'}, 'outlinks': [], 'tcooutlinks': [], 'replyCount': 1301, 'retweetCount': 18744, 'likeCount': 67986, 'quoteCount': 820, 'conversationId': 1356681136655769605, 'lang': 'en', 'source': '<a href=\"http://twitter.com/download/android\" rel=\"nofollow\">Twitter for Android</a>', 'sourceUrl': 'http://twitter.com/download/android', 'sourceLabel': 'Twitter for Android', 'media': None, 'retweetedTweet': None, 'quotedTweet': None, 'mentionedUsers': None}, {'url': 'https://twitter.com/rihanna/status/1356625889602199552', 'date': '2021-02-02T15:29:51+00:00', 'content': 'why aren’t we talking about this?! #FarmersProtest https://t.co/obmIlXhK9S', 'renderedContent': 'why aren’t we talking about this?! #FarmersProtest cnn.com/2021/02/01/asi…', 'id': 1356625889602199552, 'user': {'username': 'rihanna', 'displayname': 'Rihanna', 'id': 79293791, 'description': '', 'rawDescription': '', 'descriptionUrls': [], 'verified': True, 'created': '2009-10-02T21:37:33+00:00', 'followersCount': 102604070, 'friendsCount': 1013, 'statusesCount': 10554, 'favouritesCount': 1013, 'listedCount': 93974, 'mediaCount': 2051, 'location': '', 'protected': False, 'linkUrl': 'https://ri-hanna.io/fentybeauty', 'linkTcourl': 'https://t.co/gE3AMLvzbI', 'profileImageUrl': 'https://pbs.twimg.com/profile_images/1133109643734130688/BwioAwkz_normal.jpg', 'profileBannerUrl': 'https://pbs.twimg.com/profile_banners/79293791/1612206107', 'url': 'https://twitter.com/rihanna'}, 'outlinks': ['https://www.cnn.com/2021/02/01/asia/india-internet-cut-farmers-intl-hnk/index.html'], 'tcooutlinks': ['https://t.co/obmIlXhK9S'], 'replyCount': 163065, 'retweetCount': 315547, 'likeCount': 944307, 'quoteCount': 45832, 'conversationId': 1356625889602199552, 'lang': 'en', 'source': '<a href=\"http://twitter.com/download/iphone\" rel=\"nofollow\">Twitter for iPhone</a>', 'sourceUrl': 'http://twitter.com/download/iphone', 'sourceLabel': 'Twitter for iPhone', 'media': None, 'retweetedTweet': None, 'quotedTweet': None, 'mentionedUsers': None}]\n"
     ]
    }
   ],
   "source": [
    "main()"
   ]
  },
  {
   "cell_type": "code",
   "execution_count": null,
   "id": "c5d07dc3",
   "metadata": {},
   "outputs": [],
   "source": []
  }
 ],
 "metadata": {
  "kernelspec": {
   "display_name": "Python 3 (ipykernel)",
   "language": "python",
   "name": "python3"
  },
  "language_info": {
   "codemirror_mode": {
    "name": "ipython",
    "version": 3
   },
   "file_extension": ".py",
   "mimetype": "text/x-python",
   "name": "python",
   "nbconvert_exporter": "python",
   "pygments_lexer": "ipython3",
   "version": "3.8.10"
  }
 },
 "nbformat": 4,
 "nbformat_minor": 5
}

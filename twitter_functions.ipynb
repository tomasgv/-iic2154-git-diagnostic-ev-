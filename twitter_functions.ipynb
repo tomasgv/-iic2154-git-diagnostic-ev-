{
 "cells": [
  {
   "cell_type": "markdown",
   "id": "9909f7bd",
   "metadata": {},
   "source": [
    "# Twitter functions\n",
    "\n",
    "This notebook contains the requested twitter functions.\n"
   ]
  },
  {
   "cell_type": "markdown",
   "id": "6d2be353",
   "metadata": {},
   "source": [
    "### Libraries to import"
   ]
  },
  {
   "cell_type": "code",
   "execution_count": 1,
   "id": "9d8763f8",
   "metadata": {},
   "outputs": [],
   "source": [
    "import os"
   ]
  },
  {
   "cell_type": "markdown",
   "id": "4d83e892",
   "metadata": {},
   "source": [
    "### Function definition"
   ]
  },
  {
   "cell_type": "code",
   "execution_count": 2,
   "id": "7446f13f",
   "metadata": {},
   "outputs": [],
   "source": [
    "DEFAULT_DATA_DIR = os.path.join(\"data\", \"farmers-protest-tweets-2021-03-5.json\")\n",
    "\n",
    "def validate_input(input_str):\n",
    "    if input_str not in [\"1\", \"2\", \"3\", \"4\"]:\n",
    "        input_str = input(\"Please enter a valid option.\\n> \")\n",
    "        return validate_input(input_str)\n",
    "    return input_str\n",
    "\n",
    "def top_retweeted(input_path):\n",
    "    return \"top_retweeted\"\n",
    "\n",
    "def top_users(input_path):\n",
    "    return \"top_users\"\n",
    "\n",
    "def top_days(input_path):\n",
    "    return \"top_days\"\n",
    "\n",
    "def top_hashtags(input_path):    \n",
    "    return \"top_hashtags\"\n",
    "\n",
    "def main():\n",
    "    input_path = input(\"Enter dataset path (leave empty to use default value): \")\n",
    "    if not os.path.exists(input_path):\n",
    "        input_path = DEFAULT_DATA_DIR\n",
    "        print(f\"Default value will be used ({input_path})\")\n",
    "\n",
    "    options_str = \"\"\"Available functions:\n",
    "        [1] Top 10 most retweeted tweets\n",
    "        [2] Top 10 users that tweeted the most\n",
    "        [3] Top 10 days where people tweeted the most\n",
    "        [4] Top 10 most used hashtags\"\"\"\n",
    "    \n",
    "    functions_dict = {\n",
    "        \"1\": top_retweeted,\n",
    "        \"2\": top_users,\n",
    "        \"3\": top_days,\n",
    "        \"4\": top_hashtags\n",
    "    }\n",
    "    \n",
    "    selected_function = validate_input(input(f\"{options_str}\\n> \"))\n",
    "    result = functions_dict[selected_function](input_path)\n",
    "    print(f\"Execution result:\\n {result}\")\n"
   ]
  },
  {
   "cell_type": "markdown",
   "id": "b78a7c3a",
   "metadata": {},
   "source": [
    "### Main execution"
   ]
  },
  {
   "cell_type": "code",
   "execution_count": 3,
   "id": "2c41796c",
   "metadata": {},
   "outputs": [
    {
     "name": "stdout",
     "output_type": "stream",
     "text": [
      "Enter dataset path (leave empty to use default value): \n",
      "Default value will be used (data/farmers-protest-tweets-2021-03-5.json)\n",
      "Available functions:\n",
      "        [1] Top 10 most retweeted tweets\n",
      "        [2] Top 10 users that tweeted the most\n",
      "        [3] Top 10 days where people tweeted the most\n",
      "        [4] Top 10 most used hashtags\n",
      "> 1\n",
      "Execution result:\n",
      " top_retweeted\n"
     ]
    }
   ],
   "source": [
    "main()"
   ]
  },
  {
   "cell_type": "code",
   "execution_count": null,
   "id": "c5d07dc3",
   "metadata": {},
   "outputs": [],
   "source": []
  }
 ],
 "metadata": {
  "kernelspec": {
   "display_name": "Python 3 (ipykernel)",
   "language": "python",
   "name": "python3"
  },
  "language_info": {
   "codemirror_mode": {
    "name": "ipython",
    "version": 3
   },
   "file_extension": ".py",
   "mimetype": "text/x-python",
   "name": "python",
   "nbconvert_exporter": "python",
   "pygments_lexer": "ipython3",
   "version": "3.8.10"
  }
 },
 "nbformat": 4,
 "nbformat_minor": 5
}
